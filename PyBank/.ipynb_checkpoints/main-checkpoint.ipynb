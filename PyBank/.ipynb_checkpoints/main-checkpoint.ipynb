{
 "cells": [
  {
   "cell_type": "code",
   "execution_count": 42,
   "id": "231e8a7d-be64-427f-aeab-817bc698d3ab",
   "metadata": {},
   "outputs": [
    {
     "name": "stderr",
     "output_type": "stream",
     "text": [
      "Financial Analysis\n",
      "-------------------\n",
      "Total Months: 86\n",
      "Total: $38382578.0\n",
      "Average Change: $-2315.12\n",
      "Greatest Increase in Profits: Feb-12 ($1926159.0)\n",
      "Greatest Decrease in Profits: Sep-13 ($-2196167.0)\n",
      "\n"
     ]
    }
   ],
   "source": [
    "#Fernanda O'Malley\n",
    "#In this activity, you are tasked with creating a Python script for analyzing the financial records of your company. You will be provided with a financial dataset in this file: budget_data.csv. This dataset is composed of two columns, Date and Profit/Losses. (Thankfully, your company has rather lax standards for accounting, so the records are simple.)\n",
    "#Your task is to create a Python script that analyzes the records to calculate each of the following:\n",
    "#The total number of months included in the dataset.\n",
    "#The net total amount of Profit/Losses over the entire period.\n",
    "#The average of the changes in Profit/Losses over the entire period.\n",
    "#The greatest increase in profits (date and amount) over the entire period.\n",
    "#The greatest decrease in losses (date and amount) over the entire period.\n",
    "\n",
    "svpath = \"database.csv\"    \n",
    "nb_month = 0        \n",
    "total = 0           \n",
    "months = []         \n",
    "profits_losses = [] \n",
    "changes = []        \n",
    "\n",
    "logfile = \"results.txt\"\n",
    "open(logfile, 'w').close()  \n",
    "level = logging.INFO\n",
    "format = '%(message)s'\n",
    "handlers = [logging.FileHandler(logfile), logging.StreamHandler()]\n",
    "logging.basicConfig(level = level, format = format, handlers = handlers)\n",
    "\n",
    "\n",
    "with open('database.csv', newline='',encoding='utf-8') as csvfile:\n",
    "    csvreader = csv.reader(csvfile, delimiter=',')\n",
    "    next(csvreader,None)    \n",
    "    for row in csvreader:\n",
    "        months.append(row[0])\n",
    "        profits_losses.append(float(row[1]))\n",
    "        nb_month += 1\n",
    "        total = total + float(row[1])\n",
    "\n",
    "\n",
    "changes = [a2 - a1 for a2, a1 in zip(profits_losses[1:], profits_losses)]\n",
    "        \n",
    "logging.info('Financial Analysis')\n",
    "logging.info('-------------------')\n",
    "logging.info(\"Total Months: %i\"%(nb_month))\n",
    "logging.info(\"Total: $%.1f\"%(total))\n",
    "\n",
    "\n",
    "avg = np.mean(changes)\n",
    "top_profit = max(zip(months[1:],changes),key=lambda x:x[1])\n",
    "\n",
    "top_loss = min(zip(months[1:],changes),key=lambda x:x[1])\n",
    "\n",
    "\n",
    "logging.info(\"Average Change: $%.2f\"%(avg))\n",
    "logging.info(\"Greatest Increase in Profits: %s ($%.1f)\"%(top_profit))\n",
    "logging.info(\"Greatest Decrease in Profits: %s ($%.1f)\"%(top_loss))\n",
    "logging.info(\"\")"
   ]
  },
  {
   "cell_type": "code",
   "execution_count": null,
   "id": "6ad771c6-6aba-4ae1-a09f-a3a60b50b17f",
   "metadata": {},
   "outputs": [],
   "source": []
  },
  {
   "cell_type": "code",
   "execution_count": null,
   "id": "6e9207e2-d334-476f-82a6-0804decf61df",
   "metadata": {},
   "outputs": [],
   "source": []
  }
 ],
 "metadata": {
  "kernelspec": {
   "display_name": "Python 3",
   "language": "python",
   "name": "python3"
  },
  "language_info": {
   "codemirror_mode": {
    "name": "ipython",
    "version": 3
   },
   "file_extension": ".py",
   "mimetype": "text/x-python",
   "name": "python",
   "nbconvert_exporter": "python",
   "pygments_lexer": "ipython3",
   "version": "3.8.5"
  }
 },
 "nbformat": 4,
 "nbformat_minor": 5
}
